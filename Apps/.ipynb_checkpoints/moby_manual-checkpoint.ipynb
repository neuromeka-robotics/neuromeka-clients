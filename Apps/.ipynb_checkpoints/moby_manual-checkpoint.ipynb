{
 "cells": [
  {
   "cell_type": "code",
   "execution_count": 1,
   "id": "a5af128a",
   "metadata": {},
   "outputs": [],
   "source": [
    "## These can be removed when pip installed package is used\n",
    "import sys\n",
    "sys.path.insert(0, '../')"
   ]
  },
  {
   "cell_type": "code",
   "execution_count": 300,
   "id": "33f9c3fd",
   "metadata": {},
   "outputs": [],
   "source": [
    "from neuromeka import MobyClient\n",
    "moby = MobyClient('192.168.214.20')"
   ]
  },
  {
   "cell_type": "code",
   "execution_count": 309,
   "id": "289781e5",
   "metadata": {},
   "outputs": [
    {
     "data": {
      "text/plain": [
       "{'BMS status-1': 78.0,\n",
       " 'BMS status-2': 78.0,\n",
       " 'Pack voltage-1': 54.07,\n",
       " 'Pack voltage-2': 54.0,\n",
       " 'Battery Voltage-1': 54.0,\n",
       " 'Battery Voltage-2': 54.0,\n",
       " 'Pack current1-1': -1.1,\n",
       " 'Pack current1-2': -1.3,\n",
       " 'Pack current2-1': -1.0,\n",
       " 'Pack current2-2': -1.7}"
      ]
     },
     "execution_count": 309,
     "metadata": {},
     "output_type": "execute_result"
    }
   ],
   "source": [
    "moby.get_bms()"
   ]
  },
  {
   "cell_type": "code",
   "execution_count": null,
   "id": "3ecaacdf",
   "metadata": {},
   "outputs": [],
   "source": []
  },
  {
   "cell_type": "code",
   "execution_count": null,
   "id": "26649707",
   "metadata": {},
   "outputs": [],
   "source": []
  },
  {
   "cell_type": "markdown",
   "id": "5dbcb691",
   "metadata": {},
   "source": [
    "## Robot to client"
   ]
  },
  {
   "cell_type": "code",
   "execution_count": 371,
   "id": "ce7f703a",
   "metadata": {},
   "outputs": [
    {
     "name": "stdout",
     "output_type": "stream",
     "text": [
      "Encoder position (Rotation) [fr, br, bl, fl] = [22, 0, 0, 22]\n",
      "Encoder position (Driving) [fr, br, bl, fl] = [12, 0, 0, 12]\n",
      "Drive Velocity [fr, br, bl, fl] = [0.0, 0.0] m/s\n",
      "Motor status(Rotation) [fr, br, bl, fl] = [4151, 0, 0, 4151]\n",
      "Motor status(Driving) [fr, br, bl, fl] = [['statusWord'], 0, 0, 4151]\n"
     ]
    }
   ],
   "source": [
    "# Swerve drive type\n",
    "rot_fr = moby.get_motor_dirver_tx(0)\n",
    "rot_br = moby.get_motor_dirver_tx(2)\n",
    "rot_bl = moby.get_motor_dirver_tx(4)\n",
    "rot_fl = moby.get_motor_dirver_tx(6)\n",
    "\n",
    "drive_fr = moby.get_motor_dirver_tx(1)\n",
    "drive_br = moby.get_motor_dirver_tx(3)\n",
    "drive_bl = moby.get_motor_dirver_tx(5)\n",
    "drive_fl = moby.get_motor_dirver_tx(7)\n",
    "\n",
    "print(\"Encoder position (Rotation) [fr, br, bl, fl] = [{}, {}, {}, {}]\".format(rot_fr['actualPosition'], rot_br['actualPosition'], rot_bl['actualPosition'], rot_fr['actualPosition']))\n",
    "print(\"Encoder position (Driving) [fr, br, bl, fl] = [{}, {}, {}, {}]\".format(drive_fr['actualPosition'], drive_br['actualPosition'], drive_bl['actualPosition'], drive_fr['actualPosition']))\n",
    "\n",
    "\n",
    "drive_vel = moby.get_drive_speed()\n",
    "print(\"Drive Velocity [fr, br, bl, fl] = [{}, {}] m/s\".format(drive_vel['fr'], drive_vel['br'], drive_vel['bl'], drive_vel['fr']))\n",
    "\n",
    "print(\"Motor status(Rotation) [fr, br, bl, fl] = [{}, {}, {}, {}]\".format(rot_fr['statusWord'], rot_br['statusWord'], rot_bl['statusWord'], rot_fr['statusWord']))\n",
    "print(\"Motor status(Driving) [fr, br, bl, fl] = [{}, {}, {}, {}]\".format(['statusWord'], drive_br['statusWord'], drive_bl['statusWord'], drive_fr['statusWord']))"
   ]
  },
  {
   "cell_type": "code",
   "execution_count": 370,
   "id": "faa6e4d9",
   "metadata": {},
   "outputs": [
    {
     "name": "stdout",
     "output_type": "stream",
     "text": [
      "Encoder position [left, right] = [22, 12]\n",
      "Drive Velocity [left, right] = [0.0, 0.0] m/s\n",
      "Motor status [left, right] = [4151, 4151]\n"
     ]
    }
   ],
   "source": [
    "# Differential drive type\n",
    "diff_left = moby.get_motor_dirver_tx(0)\n",
    "diff_right = moby.get_motor_dirver_tx(1)\n",
    "print(\"Encoder position [left, right] = [{}, {}]\".format(diff_left['actualPosition'], diff_right['actualPosition']))\n",
    "\n",
    "drive_vel = moby.get_drive_speed()\n",
    "print(\"Drive Velocity [left, right] = [{}, {}] m/s\".format(drive_vel['fl'], drive_vel['fr']))\n",
    "\n",
    "print(\"Motor status [left, right] = [{}, {}]\".format(diff_left['statusWord'], diff_right['statusWord']))"
   ]
  },
  {
   "cell_type": "code",
   "execution_count": 183,
   "id": "b739c47c",
   "metadata": {},
   "outputs": [
    {
     "data": {
      "text/plain": [
       "{'is_ready': True,\n",
       " 'is_moving': True,\n",
       " 'is_move_finished': False,\n",
       " 'is_emg_pushed': False,\n",
       " 'is_error_state': False,\n",
       " 'is_home_pose': False,\n",
       " 'is_resetting': False,\n",
       " 'is_imu_avail': True,\n",
       " 'is_program_running': False,\n",
       " 'is_program_pause': False,\n",
       " 'is_rotation_zero': False}"
      ]
     },
     "execution_count": 183,
     "metadata": {},
     "output_type": "execute_result"
    }
   ],
   "source": [
    "moby.get_moby_state()"
   ]
  },
  {
   "cell_type": "markdown",
   "id": "9106694d",
   "metadata": {},
   "source": [
    "## Client to robot"
   ]
  },
  {
   "cell_type": "code",
   "execution_count": null,
   "id": "684de85b",
   "metadata": {},
   "outputs": [],
   "source": []
  },
  {
   "cell_type": "code",
   "execution_count": null,
   "id": "c69dd3d2",
   "metadata": {},
   "outputs": [],
   "source": []
  }
 ],
 "metadata": {
  "kernelspec": {
   "display_name": "Python 3 (ipykernel)",
   "language": "python",
   "name": "python3"
  },
  "language_info": {
   "codemirror_mode": {
    "name": "ipython",
    "version": 3
   },
   "file_extension": ".py",
   "mimetype": "text/x-python",
   "name": "python",
   "nbconvert_exporter": "python",
   "pygments_lexer": "ipython3",
   "version": "3.8.0"
  }
 },
 "nbformat": 4,
 "nbformat_minor": 5
}
