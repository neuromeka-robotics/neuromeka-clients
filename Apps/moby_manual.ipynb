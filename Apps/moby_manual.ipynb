{
 "cells": [
  {
   "cell_type": "code",
   "execution_count": 1,
   "id": "a5af128a",
   "metadata": {},
   "outputs": [],
   "source": [
    "## These can be removed when pip installed package is used\n",
    "import sys\n",
    "sys.path.insert(0, '../')"
   ]
  },
  {
   "cell_type": "code",
   "execution_count": 300,
   "id": "33f9c3fd",
   "metadata": {},
   "outputs": [],
   "source": [
    "from neuromeka import MobyClient\n",
    "moby = MobyClient('192.168.214.20')"
   ]
  },
  {
   "cell_type": "markdown",
   "id": "db2f74af",
   "metadata": {},
   "source": [
    "## Robot to client"
   ]
  },
  {
   "cell_type": "code",
   "execution_count": 385,
   "id": "7a737f6a",
   "metadata": {},
   "outputs": [
    {
     "name": "stdout",
     "output_type": "stream",
     "text": [
      "[0.0, 0.0, -0.057246799465414014]\n",
      "[0.0, 0.0, -0.00017453292519943296]\n"
     ]
    },
    {
     "data": {
      "text/plain": [
       "{'is_ready': True,\n",
       " 'is_moving': False,\n",
       " 'is_move_finished': True,\n",
       " 'is_emg_pushed': False,\n",
       " 'is_error_state': False,\n",
       " 'is_home_pose': False,\n",
       " 'is_resetting': False,\n",
       " 'is_imu_avail': True,\n",
       " 'is_program_running': False,\n",
       " 'is_program_pause': False,\n",
       " 'is_rotation_zero': False}"
      ]
     },
     "execution_count": 385,
     "metadata": {},
     "output_type": "execute_result"
    }
   ],
   "source": [
    "print(moby.get_moby_pose())\n",
    "print(moby.get_moby_vel())\n",
    "moby.get_moby_state()"
   ]
  },
  {
   "cell_type": "markdown",
   "id": "f53facb0",
   "metadata": {},
   "source": [
    "### Swerve drive"
   ]
  },
  {
   "cell_type": "code",
   "execution_count": 379,
   "id": "36d4e1dc",
   "metadata": {},
   "outputs": [
    {
     "name": "stdout",
     "output_type": "stream",
     "text": [
      "Encoder position (Rotation) [fr, br, bl, fl] = [-1298652996, -1261926071, 1113326323, -1298652996]\n",
      "Encoder position (Driving) [fr, br, bl, fl] = [0, 0, 0, 0]\n",
      "Drive Velocity [fr, br, bl, fl] = [0.0, 0.0] m/s\n",
      "Motor status(Rotation) [fr, br, bl, fl] = [5175, 5175, 5175, 5175]\n",
      "Motor status(Driving) [fr, br, bl, fl] = [['statusWord'], 5175, 5175, 5175]\n"
     ]
    }
   ],
   "source": [
    "# Swerve drive type\n",
    "rot_fr = moby.get_motor_dirver_tx(0)\n",
    "rot_br = moby.get_motor_dirver_tx(2)\n",
    "rot_bl = moby.get_motor_dirver_tx(4)\n",
    "rot_fl = moby.get_motor_dirver_tx(6)\n",
    "\n",
    "drive_fr = moby.get_motor_dirver_tx(1)\n",
    "drive_br = moby.get_motor_dirver_tx(3)\n",
    "drive_bl = moby.get_motor_dirver_tx(5)\n",
    "drive_fl = moby.get_motor_dirver_tx(7)\n",
    "\n",
    "print(\"Encoder position (Rotation) [fr, br, bl, fl] = [{}, {}, {}, {}]\".format(rot_fr['actualPosition'], rot_br['actualPosition'], rot_bl['actualPosition'], rot_fr['actualPosition']))\n",
    "print(\"Encoder position (Driving) [fr, br, bl, fl] = [{}, {}, {}, {}]\".format(drive_fr['actualPosition'], drive_br['actualPosition'], drive_bl['actualPosition'], drive_fr['actualPosition']))\n",
    "\n",
    "\n",
    "drive_vel = moby.get_drive_speed()\n",
    "print(\"Drive Velocity [fr, br, bl, fl] = [{}, {}] m/s\".format(drive_vel['fr'], drive_vel['br'], drive_vel['bl'], drive_vel['fr']))\n",
    "\n",
    "print(\"Motor status(Rotation) [fr, br, bl, fl] = [{}, {}, {}, {}]\".format(rot_fr['statusWord'], rot_br['statusWord'], rot_bl['statusWord'], rot_fr['statusWord']))\n",
    "print(\"Motor status(Driving) [fr, br, bl, fl] = [{}, {}, {}, {}]\".format(['statusWord'], drive_br['statusWord'], drive_bl['statusWord'], drive_fr['statusWord']))"
   ]
  },
  {
   "cell_type": "markdown",
   "id": "ed0244b9",
   "metadata": {},
   "source": [
    "### Differential drive"
   ]
  },
  {
   "cell_type": "code",
   "execution_count": 370,
   "id": "8ce5715a",
   "metadata": {},
   "outputs": [
    {
     "name": "stdout",
     "output_type": "stream",
     "text": [
      "Encoder position [left, right] = [22, 12]\n",
      "Drive Velocity [left, right] = [0.0, 0.0] m/s\n",
      "Motor status [left, right] = [4151, 4151]\n"
     ]
    }
   ],
   "source": [
    "# Differential drive type\n",
    "diff_left = moby.get_motor_dirver_tx(0)\n",
    "diff_right = moby.get_motor_dirver_tx(1)\n",
    "print(\"Encoder position [left, right] = [{}, {}]\".format(diff_left['actualPosition'], diff_right['actualPosition']))\n",
    "\n",
    "drive_vel = moby.get_drive_speed()\n",
    "print(\"Drive Velocity [left, right] = [{}, {}] m/s\".format(drive_vel['fl'], drive_vel['fr']))\n",
    "\n",
    "print(\"Motor status [left, right] = [{}, {}]\".format(diff_left['statusWord'], diff_right['statusWord']))"
   ]
  },
  {
   "cell_type": "code",
   "execution_count": null,
   "id": "7d580f41",
   "metadata": {},
   "outputs": [],
   "source": []
  },
  {
   "cell_type": "markdown",
   "id": "8b6a76c7",
   "metadata": {},
   "source": [
    "## Client to robot"
   ]
  },
  {
   "cell_type": "code",
   "execution_count": 374,
   "id": "15f6f430",
   "metadata": {},
   "outputs": [
    {
     "data": {
      "text/plain": []
     },
     "execution_count": 374,
     "metadata": {},
     "output_type": "execute_result"
    }
   ],
   "source": [
    "vx = 0\n",
    "vy = 0\n",
    "vw = 0\n",
    "\n",
    "moby.set_target_velocity(vx, vy, vw)"
   ]
  },
  {
   "cell_type": "code",
   "execution_count": 378,
   "id": "c940a71e",
   "metadata": {},
   "outputs": [
    {
     "data": {
      "text/plain": []
     },
     "execution_count": 378,
     "metadata": {},
     "output_type": "execute_result"
    }
   ],
   "source": [
    "moby.stop_motion()"
   ]
  },
  {
   "cell_type": "markdown",
   "id": "76d203da",
   "metadata": {},
   "source": [
    "### Swerve drive"
   ]
  },
  {
   "cell_type": "code",
   "execution_count": null,
   "id": "9b959ed8",
   "metadata": {},
   "outputs": [],
   "source": [
    "fr = 0\n",
    "br = 0\n",
    "bl = 0\n",
    "fl = 0\n",
    "\n",
    "moby.move_rotation_deg(fr=fr, br=br, bl=bl, fl=fl)\n"
   ]
  },
  {
   "cell_type": "code",
   "execution_count": null,
   "id": "aac9bc85",
   "metadata": {},
   "outputs": [],
   "source": [
    "fr = 0\n",
    "br = 0\n",
    "bl = 0\n",
    "fl = 0\n",
    "moby.move_driving_mps(fr=fr, br=br, bl=bl, fl=fl)"
   ]
  },
  {
   "cell_type": "markdown",
   "id": "c5f9e654",
   "metadata": {},
   "source": [
    "### Differential drive"
   ]
  },
  {
   "cell_type": "code",
   "execution_count": 376,
   "id": "260014ce",
   "metadata": {},
   "outputs": [
    {
     "data": {
      "text/plain": []
     },
     "execution_count": 376,
     "metadata": {},
     "output_type": "execute_result"
    }
   ],
   "source": [
    "left = 0\n",
    "right = 0\n",
    "\n",
    "moby.move_driving_mps(fl=left, fr=right, br=0, bl=0)\n"
   ]
  }
 ],
 "metadata": {
  "kernelspec": {
   "display_name": "Python 3 (ipykernel)",
   "language": "python",
   "name": "python3"
  },
  "language_info": {
   "codemirror_mode": {
    "name": "ipython",
    "version": 3
   },
   "file_extension": ".py",
   "mimetype": "text/x-python",
   "name": "python",
   "nbconvert_exporter": "python",
   "pygments_lexer": "ipython3",
   "version": "3.8.0"
  }
 },
 "nbformat": 4,
 "nbformat_minor": 5
}
