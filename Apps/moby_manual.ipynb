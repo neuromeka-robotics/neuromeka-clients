{
 "cells": [
  {
   "cell_type": "code",
   "execution_count": 1,
   "id": "a5af128a",
   "metadata": {},
   "outputs": [],
   "source": [
    "import sys\n",
    "sys.path.insert(0, '../')\n",
    "from neuromeka import MobyClient"
   ]
  },
  {
   "cell_type": "code",
   "execution_count": 2,
   "id": "33f9c3fd",
   "metadata": {},
   "outputs": [],
   "source": [
    "moby = MobyClient('192.168.214.20')"
   ]
  },
  {
   "cell_type": "code",
   "execution_count": 3,
   "id": "289781e5",
   "metadata": {},
   "outputs": [
    {
     "data": {
      "text/plain": [
       "{'BMS status-1': 79.9,\n",
       " 'BMS status-2': 79.9,\n",
       " 'Pack voltage-1': 54.97,\n",
       " 'Pack voltage-2': 55.24,\n",
       " 'Battery Voltage-1': 54.93,\n",
       " 'Battery Voltage-2': 55.02,\n",
       " 'Pack current1-1': 14.8,\n",
       " 'Pack current1-2': 14.7,\n",
       " 'Pack current2-1': 14.1,\n",
       " 'Pack current2-2': 14.3}"
      ]
     },
     "execution_count": 3,
     "metadata": {},
     "output_type": "execute_result"
    }
   ],
   "source": [
    "moby.get_bms()"
   ]
  }
 ],
 "metadata": {
  "kernelspec": {
   "display_name": "Python 3",
   "language": "python",
   "name": "python3"
  },
  "language_info": {
   "codemirror_mode": {
    "name": "ipython",
    "version": 3
   },
   "file_extension": ".py",
   "mimetype": "text/x-python",
   "name": "python",
   "nbconvert_exporter": "python",
   "pygments_lexer": "ipython3",
   "version": "3.8.8"
  }
 },
 "nbformat": 4,
 "nbformat_minor": 5
}
